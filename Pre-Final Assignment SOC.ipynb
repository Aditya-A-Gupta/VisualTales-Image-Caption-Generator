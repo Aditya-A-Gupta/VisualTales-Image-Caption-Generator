{
 "cells": [
  {
   "cell_type": "code",
   "execution_count": null,
   "metadata": {
    "execution": {
     "iopub.execute_input": "2024-07-28T20:33:21.283394Z",
     "iopub.status.busy": "2024-07-28T20:33:21.283106Z",
     "iopub.status.idle": "2024-07-28T20:35:49.845499Z",
     "shell.execute_reply": "2024-07-28T20:35:49.843146Z",
     "shell.execute_reply.started": "2024-07-28T20:33:21.283368Z"
    }
   },
   "outputs": [],
   "source": [
    "import numpy as np\n",
    "import torch\n",
    "from torch.utils.data import Dataset, DataLoader\n",
    "import torch.nn as nn\n",
    "import torch.optim as optim\n",
    "\n",
    "with open('text8', 'r') as file:\n",
    "    text = file.read(file.namelist()[0]).decode('utf-8')\n",
    "\n",
    "tokens = text.split()\n",
    "vocab = set(tokens)\n",
    "word_to_index = {word: i for i, word in enumerate(vocab)}\n",
    "index_to_word = {i: word for word, i in word_to_index.items()}\n",
    "\n",
    "token_indices = [word_to_index[token] for token in tokens]\n",
    "\n",
    "sequence_length = 50\n",
    "sequences = []\n",
    "for i in range(len(token_indices) - sequence_length):\n",
    "    sequences.append(token_indices[i:i + sequence_length + 1])\n",
    "\n",
    "sequences = np.array(sequences)\n",
    "\n",
    "X = sequences[:, :-1]\n",
    "y = sequences[:, -1]\n",
    "\n",
    "X = torch.tensor(X, dtype=torch.long)\n",
    "y = torch.tensor(y, dtype=torch.long)\n",
    "\n",
    "class TextDataset(Dataset):\n",
    "    def __init__(self, X, y):\n",
    "        self.X = X\n",
    "        self.y = y\n",
    "        \n",
    "    def __len__(self):\n",
    "        return len(self.X)\n",
    "    \n",
    "    def __getitem__(self, idx):\n",
    "        return self.X[idx], self.y[idx]\n",
    "\n",
    "dataset = TextDataset(X, y)\n",
    "dataloader = DataLoader(dataset, batch_size=64, shuffle=True)"
   ]
  },
  {
   "cell_type": "code",
   "execution_count": null,
   "metadata": {
    "_cell_guid": "b1076dfc-b9ad-4769-8c92-a6c4dae69d19",
    "_uuid": "8f2839f25d086af736a60e9eeb907d3b93b6e0e5",
    "execution": {
     "iopub.execute_input": "2024-07-28T20:35:49.848226Z",
     "iopub.status.busy": "2024-07-28T20:35:49.847743Z",
     "iopub.status.idle": "2024-07-28T20:35:50.514052Z",
     "shell.execute_reply": "2024-07-28T20:35:50.513233Z",
     "shell.execute_reply.started": "2024-07-28T20:35:49.848189Z"
    }
   },
   "outputs": [],
   "source": [
    "class LSTMModel(nn.Module):\n",
    "    def __init__(self, vocab_size, embed_size, hidden_size, num_layers):\n",
    "        super(LSTMModel, self).__init__()\n",
    "        self.embedding = nn.Embedding(vocab_size, embed_size)\n",
    "        self.lstm = nn.LSTM(embed_size, hidden_size, num_layers, batch_first=True)\n",
    "        self.fc = nn.Linear(hidden_size, vocab_size)\n",
    "        \n",
    "    def forward(self, x):\n",
    "        x = self.embedding(x)\n",
    "        h, _ = self.lstm(x)\n",
    "        out = self.fc(h[:, -1, :])\n",
    "        return out\n",
    "\n",
    "vocab_size = len(vocab)\n",
    "embed_size = 128\n",
    "hidden_size = 256\n",
    "num_layers = 2\n",
    "\n",
    "model = LSTMModel(vocab_size, embed_size, hidden_size, num_layers)"
   ]
  },
  {
   "cell_type": "code",
   "execution_count": null,
   "metadata": {
    "execution": {
     "iopub.execute_input": "2024-07-28T21:01:31.552801Z",
     "iopub.status.busy": "2024-07-28T21:01:31.551988Z",
     "iopub.status.idle": "2024-07-28T21:01:48.613092Z",
     "shell.execute_reply": "2024-07-28T21:01:48.611681Z",
     "shell.execute_reply.started": "2024-07-28T21:01:31.552770Z"
    }
   },
   "outputs": [],
   "source": [
    "criterion = nn.CrossEntropyLoss()\n",
    "optimizer = optim.Adam(model.parameters(), lr=0\n",
    "train_size = int(0.8 * len(dataset))\n",
    "val_size = len(dataset) - train_size\n",
    "train_dataset, val_dataset = torch.utils.data.random_split(dataset, [train_size, val_size])\n",
    "train_loader = DataLoader(train_dataset, batch_size=128, shuffle=True)\n",
    "val_loader = DataLoader(val_dataset, batch_size=128, shuffle=False)\n",
    "\n",
    "num_epochs = 10\n",
    "for epoch in range(epochs):\n",
    "    tot_loss=0\n",
    "    for inputs, targets in dataloader:\n",
    "        outputs = model(inputs)\n",
    "        loss = criterion(outputs, targets)\n",
    "        optimizer.zero_grad()\n",
    "        loss.backward()\n",
    "        optimizer.step()\n",
    "        tot_loss+=loss.item()\n",
    "    print(f'Epoch {epoch+1}/{epochs}, Loss: {tot_loss}')"
   ]
  },
  {
   "cell_type": "code",
   "execution_count": null,
   "metadata": {
    "execution": {
     "iopub.status.busy": "2024-07-28T21:01:48.614171Z",
     "iopub.status.idle": "2024-07-28T21:01:48.614566Z",
     "shell.execute_reply": "2024-07-28T21:01:48.614377Z",
     "shell.execute_reply.started": "2024-07-28T21:01:48.614356Z"
    }
   },
   "outputs": [],
   "source": [
    "def generate_text(model, seed_text, next_words, max_sequence_len):\n",
    "    model.eval()\n",
    "    token_list = [word_to_index[word] for word in seed_text.split()]\n",
    "    token_list = torch.tensor([token_list], dtype=torch.long)\n",
    "    \n",
    "    for _ in range(next_words):\n",
    "        with torch.no_grad():\n",
    "            output = model(token_list)\n",
    "        predicted = torch.argmax(output, dim=1).item()\n",
    "        predicted_word = index_to_word[predicted]\n",
    "        \n",
    "        seed_text += \" \" + predicted_word\n",
    "        token_list = torch.tensor([token_list[0].tolist() + [predicted]], dtype=torch.long)\n",
    "        token_list = token_list[:, -max_sequence_len:]\n",
    "    \n",
    "    return seed_text\n",
    "\n",
    "seed_text = \"I want to eat an orange and\"\n",
    "next_words = 20\n",
    "generated_text = generate_text(model, seed_text, next_words, sequence_length)\n",
    "print(generated_text)"
   ]
  },
  {
   "cell_type": "code",
   "execution_count": null,
   "metadata": {},
   "outputs": [],
   "source": []
  }
 ],
 "metadata": {
  "kaggle": {
   "accelerator": "none",
   "dataSources": [],
   "dockerImageVersionId": 30747,
   "isGpuEnabled": false,
   "isInternetEnabled": true,
   "language": "python",
   "sourceType": "notebook"
  },
  "kernelspec": {
   "display_name": "Python 3 (ipykernel)",
   "language": "python",
   "name": "python3"
  },
  "language_info": {
   "codemirror_mode": {
    "name": "ipython",
    "version": 3
   },
   "file_extension": ".py",
   "mimetype": "text/x-python",
   "name": "python",
   "nbconvert_exporter": "python",
   "pygments_lexer": "ipython3",
   "version": "3.11.5"
  }
 },
 "nbformat": 4,
 "nbformat_minor": 4
}
